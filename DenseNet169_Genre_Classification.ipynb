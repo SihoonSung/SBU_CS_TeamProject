{
 "cells": [
  {
   "cell_type": "markdown",
   "metadata": {},
   "source": [
    "# 🎬 Movie Genre Classification using DenseNet-169\n",
    "This notebook demonstrates how to use DenseNet-169 for multi-label genre classification from movie posters.\n",
    "It includes model customization, preprocessing, and inference steps using random weights for demonstration."
   ]
  },
  {
   "cell_type": "code",
   "execution_count": null,
   "metadata": {},
   "outputs": [],
   "source": [
    "import torch\n",
    "import torch.nn as nn\n",
    "from torchvision import models, transforms\n",
    "from PIL import Image\n",
    "import requests\n",
    "from io import BytesIO\n",
    "import matplotlib.pyplot as plt"
   ]
  },
  {
   "cell_type": "markdown",
   "metadata": {},
   "source": [
    "## 1. Load and preprocess the movie poster image"
   ]
  },
  {
   "cell_type": "code",
   "execution_count": null,
   "metadata": {},
   "outputs": [],
   "source": [
    "# Sample movie poster\n",
    "url = \"https://upload.wikimedia.org/wikipedia/en/7/7d/Avengers_Endgame_poster.jpg\"\n",
    "response = requests.get(url)\n",
    "image = Image.open(BytesIO(response.content)).convert(\"RGB\")\n",
    "image = image.resize((256, 256))\n",
    "plt.imshow(image)\n",
    "plt.title(\"Sample Movie Poster\")\n",
    "plt.axis('off')\n",
    "plt.show()\n",
    "transform = transforms.Compose([\n",
    "    transforms.Resize((256, 256)),\n",
    "    transforms.ToTensor()\n",
    "])\n",
    "input_tensor = transform(image).unsqueeze(0)"
   ]
  },
  {
   "cell_type": "markdown",
   "metadata": {},
   "source": [
    "## 2. Load DenseNet-169 and customize classifier"
   ]
  },
  {
   "cell_type": "code",
   "execution_count": null,
   "metadata": {},
   "outputs": [],
   "source": [
    "# Load pretrained DenseNet-169\n",
    "model = models.densenet169(pretrained=True)\n",
    "# Replace classifier for multi-label classification with 7 genres\n",
    "model.classifier = nn.Sequential(\n",
    "    nn.Linear(model.classifier.in_features, 1024),\n",
    "    nn.ReLU(),\n",
    "    nn.Linear(1024, 128),\n",
    "    nn.ReLU(),\n",
    "    nn.Linear(128, 7),\n",
    "    nn.Sigmoid()  # for multi-label output\n",
    ")\n",
    "model.eval()"
   ]
  },
  {
   "cell_type": "markdown",
   "metadata": {},
   "source": [
    "## 3. Inference (Demo only — weights are random for the custom head)"
   ]
  },
  {
   "cell_type": "code",
   "execution_count": null,
   "metadata": {},
   "outputs": [],
   "source": [
    "# Run a forward pass\n",
    "with torch.no_grad():\n",
    "    outputs = model(input_tensor).squeeze()\n",
    "    print(\"Raw output vector:\", outputs)"
   ]
  },
  {
   "cell_type": "markdown",
   "metadata": {},
   "source": [
    "## 4. Plot Predicted Genre Probabilities"
   ]
  },
  {
   "cell_type": "code",
   "execution_count": null,
   "metadata": {},
   "outputs": [],
   "source": [
    "genres = ['Action', 'Comedy', 'Crime', 'Drama', 'Romance', 'Thriller', 'Other']\n",
    "plt.figure(figsize=(10, 5))\n",
    "plt.bar(genres, outputs.numpy())\n",
    "plt.ylabel(\"Predicted Probability\")\n",
    "plt.title(\"Predicted Movie Genres (Simulated)")\n",
    "plt.show()"
   ]
  }
 ],
 "metadata": {
  "kernelspec": {
   "display_name": "Python 3",
   "language": "python",
   "name": "python3"
  },
  "language_info": {
   "name": "python"
  }
 },
 "nbformat": 4,
 "nbformat_minor": 5
}
